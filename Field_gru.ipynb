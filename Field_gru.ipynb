{
 "cells": [
  {
   "cell_type": "code",
   "execution_count": 1,
   "metadata": {},
   "outputs": [],
   "source": [
    "import torch\n",
    "import torch.nn as nn\n",
    "import torch.nn.functional as F\n",
    "import torch.optim as optim"
   ]
  },
  {
   "cell_type": "code",
   "execution_count": 2,
   "metadata": {
    "scrolled": true
   },
   "outputs": [],
   "source": [
    "device = torch.device(\"cuda:0\" if torch.cuda.is_available() else \"cpu\")"
   ]
  },
  {
   "cell_type": "code",
   "execution_count": 3,
   "metadata": {},
   "outputs": [],
   "source": [
    "class GruCell(nn.Module):\n",
    "    def __init__(self, hidden_size = 10):\n",
    "        super(GruCell, self).__init__()\n",
    "        self.my_reset = nn.Linear(hidden_size, hidden_size)\n",
    "        self.my_update = nn.Linear(hidden_size, hidden_size)\n",
    "        self.my_final = nn.Linear(hidden_size, hidden_size)\n",
    "        self.neighbours_reset = nn.Linear(4 * hidden_size, hidden_size)\n",
    "        self.neighbours_update = nn.Linear(4 * hidden_size, hidden_size)\n",
    "        self.neighbours_final = nn.Linear(4 * hidden_size, hidden_size)\n",
    "\n",
    "    def forward(self, state, x):\n",
    "        reset_chooser = torch.sigmoid(self.my_reset(state) + self.neighbours_reset(x))\n",
    "        resetted = reset_chooser * state\n",
    "        update_chooser = torch.sigmoid(self.my_update(state) + self.neighbours_update(x))\n",
    "        update = torch.tanh(self.my_final(resetted) + self.neighbours_final(x))\n",
    "        update = update_chooser * update\n",
    "        new_state = (1 - update_chooser) * state + update\n",
    "        return reset_chooser, update_chooser, update, new_state"
   ]
  },
  {
   "cell_type": "code",
   "execution_count": 4,
   "metadata": {},
   "outputs": [],
   "source": [
    "def autism_loss(reset, update, delta, state):\n",
    "    return - torch.mean(reset ** 2) - torch.mean(update ** 2)  - torch.mean(state ** 2) + torch.mean(delta ** 2)"
   ]
  },
  {
   "cell_type": "code",
   "execution_count": 5,
   "metadata": {},
   "outputs": [],
   "source": [
    "field_size = 102\n",
    "hidden_size = 8\n",
    "epochs = 100\n",
    "batch_size = 32"
   ]
  },
  {
   "cell_type": "code",
   "execution_count": 6,
   "metadata": {},
   "outputs": [],
   "source": [
    "net = GruCell(hidden_size).to(device)\n",
    "optimizer = optim.SGD(net.parameters(), lr=0.001, momentum=0.9)"
   ]
  },
  {
   "cell_type": "code",
   "execution_count": 17,
   "metadata": {},
   "outputs": [],
   "source": [
    "field = torch.randn(field_size, field_size, hidden_size)\n",
    "# зануляем края\n",
    "for i in range(field_size):\n",
    "    for j in range(field_size):\n",
    "        if i == 0 or j == 0 or i == field_size - 1 or j == field_size - 1:\n",
    "            field[i, j] = torch.zeros(hidden_size)"
   ]
  },
  {
   "cell_type": "code",
   "execution_count": 18,
   "metadata": {},
   "outputs": [
    {
     "name": "stdout",
     "output_type": "stream",
     "text": [
      "[1] loss: -1.126; Mean Information : 0.4543346166610718\n",
      "[2] loss: -1.035; Mean Information : 0.30459609627723694\n",
      "[3] loss: -1.050; Mean Information : 0.23837506771087646\n",
      "[4] loss: -1.118; Mean Information : 0.21118928492069244\n",
      "[5] loss: -1.221; Mean Information : 0.21041561663150787\n",
      "[6] loss: -1.356; Mean Information : 0.23416127264499664\n",
      "[7] loss: -1.516; Mean Information : 0.28507229685783386\n",
      "[8] loss: -1.681; Mean Information : 0.36236658692359924\n",
      "[9] loss: -1.816; Mean Information : 0.4514331817626953\n",
      "[10] loss: -1.899; Mean Information : 0.5292965769767761\n",
      "[11] loss: -1.941; Mean Information : 0.5854091644287109\n",
      "[12] loss: -1.962; Mean Information : 0.6237891912460327\n",
      "[13] loss: -1.974; Mean Information : 0.6517171859741211\n",
      "[14] loss: -1.981; Mean Information : 0.6743824481964111\n",
      "[15] loss: -1.985; Mean Information : 0.6937780976295471\n",
      "[16] loss: -1.988; Mean Information : 0.7103978991508484\n",
      "[17] loss: -1.990; Mean Information : 0.7241992354393005\n",
      "[18] loss: -1.991; Mean Information : 0.7350828647613525\n",
      "[19] loss: -1.992; Mean Information : 0.7433724403381348\n",
      "[20] loss: -1.992; Mean Information : 0.7498758435249329\n",
      "[21] loss: -1.993; Mean Information : 0.7553907036781311\n",
      "[22] loss: -1.993; Mean Information : 0.7603698968887329\n",
      "[23] loss: -1.994; Mean Information : 0.7650231122970581\n",
      "[24] loss: -1.994; Mean Information : 0.7694737315177917\n",
      "[25] loss: -1.995; Mean Information : 0.7738032937049866\n",
      "[26] loss: -1.995; Mean Information : 0.7781174182891846\n",
      "[27] loss: -1.995; Mean Information : 0.7824649214744568\n",
      "[28] loss: -1.995; Mean Information : 0.7868863344192505\n",
      "[29] loss: -1.996; Mean Information : 0.7913781404495239\n",
      "[30] loss: -1.996; Mean Information : 0.7959129214286804\n",
      "[31] loss: -1.996; Mean Information : 0.8004462718963623\n",
      "[32] loss: -1.996; Mean Information : 0.804899275302887\n",
      "[33] loss: -1.996; Mean Information : 0.8092194199562073\n",
      "[34] loss: -1.996; Mean Information : 0.8133680820465088\n",
      "[35] loss: -1.996; Mean Information : 0.817330539226532\n",
      "[36] loss: -1.997; Mean Information : 0.8211063742637634\n",
      "[37] loss: -1.997; Mean Information : 0.8247036337852478\n",
      "[38] loss: -1.997; Mean Information : 0.8281394839286804\n",
      "[39] loss: -1.997; Mean Information : 0.8314039707183838\n",
      "[40] loss: -1.997; Mean Information : 0.8345205187797546\n",
      "[41] loss: -1.997; Mean Information : 0.8374947905540466\n",
      "[42] loss: -1.997; Mean Information : 0.8403273224830627\n",
      "[43] loss: -1.997; Mean Information : 0.8430433869361877\n",
      "[44] loss: -1.997; Mean Information : 0.8456345200538635\n",
      "[45] loss: -1.997; Mean Information : 0.8481044769287109\n",
      "[46] loss: -1.998; Mean Information : 0.8504669070243835\n",
      "[47] loss: -1.998; Mean Information : 0.8527296185493469\n",
      "[48] loss: -1.998; Mean Information : 0.854893147945404\n",
      "[49] loss: -1.998; Mean Information : 0.8569657802581787\n",
      "[50] loss: -1.998; Mean Information : 0.8589422702789307\n",
      "[51] loss: -1.998; Mean Information : 0.8608453869819641\n",
      "[52] loss: -1.998; Mean Information : 0.8626681566238403\n",
      "[53] loss: -1.998; Mean Information : 0.8644229173660278\n",
      "[54] loss: -1.998; Mean Information : 0.8661025166511536\n",
      "[55] loss: -1.998; Mean Information : 0.8677120208740234\n",
      "[56] loss: -1.998; Mean Information : 0.8692643642425537\n",
      "[57] loss: -1.998; Mean Information : 0.8707618713378906\n",
      "[58] loss: -1.998; Mean Information : 0.8722026348114014\n",
      "[59] loss: -1.998; Mean Information : 0.8735867142677307\n",
      "[60] loss: -1.998; Mean Information : 0.8749301433563232\n",
      "[61] loss: -1.998; Mean Information : 0.8762161731719971\n",
      "[62] loss: -1.998; Mean Information : 0.8774621486663818\n",
      "[63] loss: -1.998; Mean Information : 0.8786704540252686\n",
      "[64] loss: -1.998; Mean Information : 0.8798321485519409\n",
      "[65] loss: -1.998; Mean Information : 0.8809589743614197\n",
      "[66] loss: -1.998; Mean Information : 0.8820488452911377\n",
      "[67] loss: -1.998; Mean Information : 0.8831033706665039\n",
      "[68] loss: -1.998; Mean Information : 0.8841256499290466\n",
      "[69] loss: -1.999; Mean Information : 0.885111391544342\n",
      "[70] loss: -1.999; Mean Information : 0.8860729932785034\n",
      "[71] loss: -1.999; Mean Information : 0.8870043754577637\n",
      "[72] loss: -1.999; Mean Information : 0.8879109025001526\n",
      "[73] loss: -1.999; Mean Information : 0.8887863755226135\n",
      "[74] loss: -1.999; Mean Information : 0.889641284942627\n",
      "[75] loss: -1.999; Mean Information : 0.8904699087142944\n",
      "[76] loss: -1.999; Mean Information : 0.8912762403488159\n",
      "[77] loss: -1.999; Mean Information : 0.8920612931251526\n",
      "[78] loss: -1.999; Mean Information : 0.892822802066803\n",
      "[79] loss: -1.999; Mean Information : 0.8935661315917969\n",
      "[80] loss: -1.999; Mean Information : 0.8942883014678955\n",
      "[81] loss: -1.999; Mean Information : 0.8949940800666809\n",
      "[82] loss: -1.999; Mean Information : 0.8956827521324158\n",
      "[83] loss: -1.999; Mean Information : 0.8963530659675598\n",
      "[84] loss: -1.999; Mean Information : 0.8970064520835876\n",
      "[85] loss: -1.999; Mean Information : 0.8976438045501709\n",
      "[86] loss: -1.999; Mean Information : 0.8982645869255066\n",
      "[87] loss: -1.999; Mean Information : 0.8988732099533081\n",
      "[88] loss: -1.999; Mean Information : 0.8994668126106262\n",
      "[89] loss: -1.999; Mean Information : 0.9000483751296997\n",
      "[90] loss: -1.999; Mean Information : 0.900611937046051\n",
      "[91] loss: -1.999; Mean Information : 0.9011660218238831\n",
      "[92] loss: -1.999; Mean Information : 0.9017083048820496\n",
      "[93] loss: -1.999; Mean Information : 0.9022398591041565\n",
      "[94] loss: -1.999; Mean Information : 0.902755618095398\n",
      "[95] loss: -1.999; Mean Information : 0.9032638072967529\n",
      "[96] loss: -1.999; Mean Information : 0.903759241104126\n",
      "[97] loss: -1.999; Mean Information : 0.9042477607727051\n",
      "[98] loss: -1.999; Mean Information : 0.9047238826751709\n",
      "[99] loss: -1.999; Mean Information : 0.9051905274391174\n",
      "[100] loss: -1.999; Mean Information : 0.9056467413902283\n"
     ]
    }
   ],
   "source": [
    "for e in range(epochs):\n",
    "    new_field = torch.zeros(field_size, field_size, hidden_size)\n",
    "    train_set = []\n",
    "    for i in range(1, field_size - 1):\n",
    "        for j in range(1, field_size - 1):\n",
    "            tmp = []\n",
    "            tmp.append(field[i, j].to(device))\n",
    "            # верхние и боковые соседи\n",
    "            tmp.append(torch.cat([field[i - 1, j], field[i + 1, j], field[i, j - 1], field[i, j + 1]]).to(device))\n",
    "            # координаты поля\n",
    "            tmp.append((i, j))\n",
    "            train_set.append(tmp)\n",
    "    train_loader = torch.utils.data.DataLoader(train_set, batch_size=batch_size, shuffle=True, num_workers=0)\n",
    "    i = 0\n",
    "    running_loss = 0.0\n",
    "    for cells, neighbours, cords in train_loader:\n",
    "        loc_y, loc_x = cords\n",
    "        optimizer.zero_grad()\n",
    "        reset, update, delta, state = net(cells, neighbours)\n",
    "        loss = autism_loss(reset, update, delta, state)\n",
    "        loss.backward()\n",
    "        optimizer.step()\n",
    "        for new_state, y, x in zip(state, loc_y, loc_x):\n",
    "            new_field[y, x] = new_state\n",
    "        # print statistics\n",
    "        running_loss += loss.item()\n",
    "        i += 1\n",
    "    mean_information = torch.mean(field ** 2)\n",
    "    with torch.no_grad():\n",
    "        field = new_field.clone()\n",
    "    print(f'[{e + 1}] loss: {running_loss /  len(train_loader):.3f}; Mean Information : {torch.mean(field ** 2)}')"
   ]
  },
  {
   "cell_type": "code",
   "execution_count": 20,
   "metadata": {},
   "outputs": [],
   "source": [
    "torch.save(net.state_dict(), 'models/first_model')"
   ]
  },
  {
   "cell_type": "code",
   "execution_count": null,
   "metadata": {},
   "outputs": [],
   "source": []
  }
 ],
 "metadata": {
  "kernelspec": {
   "display_name": "Python 3",
   "language": "python",
   "name": "python3"
  },
  "language_info": {
   "codemirror_mode": {
    "name": "ipython",
    "version": 3
   },
   "file_extension": ".py",
   "mimetype": "text/x-python",
   "name": "python",
   "nbconvert_exporter": "python",
   "pygments_lexer": "ipython3",
   "version": "3.7.9"
  }
 },
 "nbformat": 4,
 "nbformat_minor": 4
}
