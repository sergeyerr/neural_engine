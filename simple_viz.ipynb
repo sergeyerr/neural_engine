{
 "cells": [
  {
   "cell_type": "code",
   "execution_count": 1,
   "metadata": {},
   "outputs": [],
   "source": [
    "import torch\n",
    "import torch.nn as nn\n",
    "import torch.nn.functional as F\n",
    "import seaborn as sns\n",
    "import matplotlib.pylab as plt\n",
    "import time\n",
    "from matplotlib import animation, rc\n",
    "from IPython.display import HTML"
   ]
  },
  {
   "cell_type": "code",
   "execution_count": 49,
   "metadata": {},
   "outputs": [],
   "source": [
    "field_size = 102\n",
    "hidden_size = 8\n",
    "epochs = 10\n",
    "batch_size = 32\n",
    "model_name = 'models/first_model'\n",
    "device = torch.device(\"cuda:0\" if torch.cuda.is_available() else \"cpu\")"
   ]
  },
  {
   "cell_type": "code",
   "execution_count": 50,
   "metadata": {},
   "outputs": [],
   "source": [
    "class GruCell(nn.Module):\n",
    "    def __init__(self, hidden_size = 10):\n",
    "        super(GruCell, self).__init__()\n",
    "        self.my_reset = nn.Linear(hidden_size, hidden_size)\n",
    "        self.my_update = nn.Linear(hidden_size, hidden_size)\n",
    "        self.my_final = nn.Linear(hidden_size, hidden_size)\n",
    "        self.neighbours_reset = nn.Linear(4 * hidden_size, hidden_size)\n",
    "        self.neighbours_update = nn.Linear(4 * hidden_size, hidden_size)\n",
    "        self.neighbours_final = nn.Linear(4 * hidden_size, hidden_size)\n",
    "\n",
    "    def forward(self, state, x):\n",
    "        reset_chooser = torch.sigmoid(self.my_reset(state) + self.neighbours_reset(x))\n",
    "        resetted = reset_chooser * state\n",
    "        update_chooser = torch.sigmoid(self.my_update(state) + self.neighbours_update(x))\n",
    "        update = torch.tanh(self.my_final(resetted) + self.neighbours_final(x))\n",
    "        update = update_chooser * update\n",
    "        new_state = (1 - update_chooser) * state + update\n",
    "        return reset_chooser, update_chooser, update, new_state"
   ]
  },
  {
   "cell_type": "code",
   "execution_count": 51,
   "metadata": {},
   "outputs": [
    {
     "data": {
      "text/plain": [
       "<All keys matched successfully>"
      ]
     },
     "execution_count": 51,
     "metadata": {},
     "output_type": "execute_result"
    }
   ],
   "source": [
    "net = GruCell(hidden_size)\n",
    "net.eval()\n",
    "net.load_state_dict(torch.load(model_name))"
   ]
  },
  {
   "cell_type": "code",
   "execution_count": 52,
   "metadata": {},
   "outputs": [
    {
     "data": {
      "text/plain": [
       "GruCell(\n",
       "  (my_reset): Linear(in_features=8, out_features=8, bias=True)\n",
       "  (my_update): Linear(in_features=8, out_features=8, bias=True)\n",
       "  (my_final): Linear(in_features=8, out_features=8, bias=True)\n",
       "  (neighbours_reset): Linear(in_features=32, out_features=8, bias=True)\n",
       "  (neighbours_update): Linear(in_features=32, out_features=8, bias=True)\n",
       "  (neighbours_final): Linear(in_features=32, out_features=8, bias=True)\n",
       ")"
      ]
     },
     "execution_count": 52,
     "metadata": {},
     "output_type": "execute_result"
    }
   ],
   "source": [
    "net.to(device)"
   ]
  },
  {
   "cell_type": "code",
   "execution_count": 69,
   "metadata": {},
   "outputs": [],
   "source": [
    "def init():\n",
    "    global field\n",
    "    field = torch.randn(field_size, field_size, hidden_size)\n",
    "    # зануляем края\n",
    "    for i in range(field_size):\n",
    "        for j in range(field_size):\n",
    "            if i == 0 or j == 0 or i == field_size - 1 or j == field_size - 1:\n",
    "                field[i, j] = torch.zeros(hidden_size)\n",
    "\n"
   ]
  },
  {
   "cell_type": "code",
   "execution_count": 70,
   "metadata": {
    "scrolled": false
   },
   "outputs": [],
   "source": [
    "#fig, ax = plt.subplots(figsize=(10,10))   \n",
    "#ax = sns.heatmap(torch.mean(field ** 2, axis = 2), ax=ax, square=True)\n",
    "#plt.show()"
   ]
  },
  {
   "cell_type": "code",
   "execution_count": 67,
   "metadata": {
    "scrolled": false
   },
   "outputs": [],
   "source": [
    "def animate(e):\n",
    "    global field\n",
    "    global ax\n",
    "    pump_energy = False\n",
    "    # накачивать ли рандомом\n",
    "    # тот же самый цикл, но без обучения\n",
    "    with torch.no_grad():\n",
    "    #for e in range(epochs):\n",
    "        new_field = torch.zeros(field_size, field_size, hidden_size)\n",
    "        train_set = []\n",
    "        for i in range(1, field_size - 1):\n",
    "            for j in range(1, field_size - 1):\n",
    "                tmp = []\n",
    "                tmp.append(field[i, j].to(device))\n",
    "                # верхние и боковые соседи\n",
    "                tmp.append(torch.cat([field[i - 1, j], field[i + 1, j], field[i, j - 1], field[i, j + 1]]).to(device))\n",
    "                # координаты поля\n",
    "                tmp.append((i, j))\n",
    "                train_set.append(tmp)\n",
    "\n",
    "\n",
    "        train_loader = torch.utils.data.DataLoader(train_set, batch_size=batch_size, shuffle=False, num_workers=0)\n",
    "        for cells, neighbours, cords in train_loader:\n",
    "            loc_y, loc_x = cords\n",
    "            reset, update, delta, state = net(cells, neighbours)\n",
    "            for new_state, y, x in zip(state, loc_y, loc_x):\n",
    "                new_field[y, x] = new_state\n",
    "            # print statistics\n",
    "        mean_information = torch.mean(field ** 2)\n",
    "        field = new_field.clone()\n",
    "        print(f'[{e + 1}]; Mean Information : {torch.mean(field ** 2)}')\n",
    "        plt.clf()\n",
    "        if pump_energy:\n",
    "            field += torch.randn(field_size, field_size, hidden_size)\n",
    "            sns.heatmap(torch.mean(field ** 2, axis = 2), ax=ax, square=True)\n",
    "        else:\n",
    "            #field += torch.randn(field_size, field_size, hidden_size)\n",
    "            #если не накачивать рандомом, то значения колеблются от 0 до 4\n",
    "            sns.heatmap(torch.mean(field ** 2, axis = 2), ax=ax, square=True, vmin = 0, vmax = 2, cbar=False)"
   ]
  },
  {
   "cell_type": "code",
   "execution_count": 74,
   "metadata": {},
   "outputs": [
    {
     "data": {
      "image/png": "[encoded data removed]",
      "text/plain": [
       "<Figure size 720x720 with 1 Axes>"
      ]
     },
     "metadata": {
      "needs_background": "light"
     },
     "output_type": "display_data"
    }
   ],
   "source": [
    "fig, ax = plt.subplots(figsize=(10,10))\n",
    "anim = animation.FuncAnimation(fig, animate, init_func=init, frames=10, interval=1, blit=False)"
   ]
  },
  {
   "cell_type": "code",
   "execution_count": 75,
   "metadata": {
    "scrolled": true
   },
   "outputs": [],
   "source": [
    "#HTML(anim.to_html5_video())\n",
    "# надо перезапускать сначала, чтобы поле переинициализировать"
   ]
  },
  {
   "cell_type": "code",
   "execution_count": 77,
   "metadata": {},
   "outputs": [
    {
     "name": "stderr",
     "output_type": "stream",
     "text": [
      "MovieWriter imagemagick unavailable; using Pillow instead.\n"
     ]
    },
    {
     "name": "stdout",
     "output_type": "stream",
     "text": [
      "[1]; Mean Information : 0.4601840078830719\n",
      "[2]; Mean Information : 0.43196529150009155\n",
      "[3]; Mean Information : 0.5523274540901184\n",
      "[4]; Mean Information : 0.7048530578613281\n",
      "[5]; Mean Information : 0.8166463375091553\n",
      "[6]; Mean Information : 0.8753125667572021\n",
      "[7]; Mean Information : 0.8977521061897278\n",
      "[8]; Mean Information : 0.9040918946266174\n",
      "[9]; Mean Information : 0.9055777192115784\n",
      "[10]; Mean Information : 0.9058724641799927\n"
     ]
    },
    {
     "data": {
      "text/plain": [
       "<Figure size 432x288 with 0 Axes>"
      ]
     },
     "metadata": {},
     "output_type": "display_data"
    }
   ],
   "source": [
    "anim.save('animations/anim_2.gif', writer='imagemagick', fps=2)"
   ]
  },
  {
   "cell_type": "code",
   "execution_count": null,
   "metadata": {},
   "outputs": [],
   "source": []
  }
 ],
 "metadata": {
  "kernelspec": {
   "display_name": "Python 3",
   "language": "python",
   "name": "python3"
  },
  "language_info": {
   "codemirror_mode": {
    "name": "ipython",
    "version": 3
   },
   "file_extension": ".py",
   "mimetype": "text/x-python",
   "name": "python",
   "nbconvert_exporter": "python",
   "pygments_lexer": "ipython3",
   "version": "3.7.9"
  }
 },
 "nbformat": 4,
 "nbformat_minor": 4
}
